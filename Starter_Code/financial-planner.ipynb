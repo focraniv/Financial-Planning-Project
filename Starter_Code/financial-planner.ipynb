{
 "cells": [
  {
   "cell_type": "markdown",
   "metadata": {},
   "source": [
    "# Unit 5 - Financial Planning"
   ]
  },
  {
   "cell_type": "code",
   "execution_count": 1,
   "metadata": {},
   "outputs": [],
   "source": [
    "# Initial imports\n",
    "import os\n",
    "import requests\n",
    "import pandas as pd\n",
    "from dotenv import load_dotenv\n",
    "import alpaca_trade_api as tradeapi\n",
    "from MCForecastTools import MCSimulation\n",
    "\n",
    "%matplotlib inline"
   ]
  },
  {
   "cell_type": "code",
   "execution_count": 2,
   "metadata": {},
   "outputs": [
    {
     "data": {
      "text/plain": [
       "True"
      ]
     },
     "execution_count": 2,
     "metadata": {},
     "output_type": "execute_result"
    }
   ],
   "source": [
    "# Load .env enviroment variables\n",
    "load_dotenv()"
   ]
  },
  {
   "cell_type": "markdown",
   "metadata": {},
   "source": [
    "## Part 1 - Personal Finance Planner"
   ]
  },
  {
   "cell_type": "markdown",
   "metadata": {},
   "source": [
    "### Collect Crypto Prices Using the `requests` Library"
   ]
  },
  {
   "cell_type": "code",
   "execution_count": 3,
   "metadata": {},
   "outputs": [],
   "source": [
    "# Set current amount of crypto assets\n",
    "my_btc = 1.2\n",
    "my_eth = 5.3"
   ]
  },
  {
   "cell_type": "code",
   "execution_count": 4,
   "metadata": {},
   "outputs": [],
   "source": [
    "# Crypto API URLs\n",
    "btc_url = \"https://api.alternative.me/v2/ticker/Bitcoin/?convert=CAD\"\n",
    "eth_url = \"https://api.alternative.me/v2/ticker/Ethereum/?convert=CAD\"\n",
    "# Format Specifier\n",
    "btc_url = btc_url + \"?format=json\"\n",
    "eth_url = eth_url + \"?format=json\""
   ]
  },
  {
   "cell_type": "code",
   "execution_count": 5,
   "metadata": {},
   "outputs": [
    {
     "name": "stdout",
     "output_type": "stream",
     "text": [
      "The current value of your 1.2 BTC is $41316.00\n",
      "The current value of your 5.3 ETH is $12110.71\n"
     ]
    }
   ],
   "source": [
    "# Fetch current BTC price\n",
    "btc_price = requests.get(btc_url)\n",
    "\n",
    "# Fetch current ETH price\n",
    "eth_price = requests.get(eth_url)\n",
    "\n",
    "# Compute current value of my crpto\n",
    "btc_response = btc_price.content\n",
    "eth_response = eth_price.content\n",
    "btc_data = btc_price.json()\n",
    "eth_data = eth_price.json()\n",
    "btc_price = btc_data['data']['1']['quotes']['USD']['price']\n",
    "eth_price = eth_data['data']['1027']['quotes']['USD']['price']\n",
    "my_btc_value = my_btc * btc_price\n",
    "my_eth_value = my_eth * eth_price\n",
    "\n",
    "# Print current crypto wallet balance\n",
    "print(f\"The current value of your {my_btc} BTC is ${my_btc_value:0.2f}\")\n",
    "print(f\"The current value of your {my_eth} ETH is ${my_eth_value:0.2f}\")"
   ]
  },
  {
   "cell_type": "markdown",
   "metadata": {},
   "source": [
    "### Collect Investments Data Using Alpaca: `SPY` (stocks) and `AGG` (bonds)"
   ]
  },
  {
   "cell_type": "code",
   "execution_count": 6,
   "metadata": {},
   "outputs": [],
   "source": [
    "# Set current amount of shares\n",
    "my_agg = 200\n",
    "my_spy = 50"
   ]
  },
  {
   "cell_type": "code",
   "execution_count": 7,
   "metadata": {},
   "outputs": [],
   "source": [
    "# Set Alpaca API key and secret\n",
    "load_dotenv(\"keys.env\")\n",
    "alpaca_api_key = os.getenv(\"ALPACA_API_KEY\")\n",
    "alpaca_secret_key = os.getenv(\"ALPACA_SECRET_KEY\")"
   ]
  },
  {
   "cell_type": "code",
   "execution_count": 8,
   "metadata": {},
   "outputs": [],
   "source": [
    "# Create the Alpaca API object\n",
    "api = tradeapi.REST(\n",
    "    alpaca_api_key,\n",
    "    alpaca_secret_key,\n",
    "    api_version=\"v2\")"
   ]
  },
  {
   "cell_type": "code",
   "execution_count": 9,
   "metadata": {},
   "outputs": [
    {
     "data": {
      "text/plain": [
       "alpaca_trade_api.rest.REST"
      ]
     },
     "execution_count": 9,
     "metadata": {},
     "output_type": "execute_result"
    }
   ],
   "source": [
    "type(api)"
   ]
  },
  {
   "cell_type": "code",
   "execution_count": 10,
   "metadata": {},
   "outputs": [
    {
     "data": {
      "text/html": [
       "<div>\n",
       "<style scoped>\n",
       "    .dataframe tbody tr th:only-of-type {\n",
       "        vertical-align: middle;\n",
       "    }\n",
       "\n",
       "    .dataframe tbody tr th {\n",
       "        vertical-align: top;\n",
       "    }\n",
       "\n",
       "    .dataframe thead tr th {\n",
       "        text-align: left;\n",
       "    }\n",
       "\n",
       "    .dataframe thead tr:last-of-type th {\n",
       "        text-align: right;\n",
       "    }\n",
       "</style>\n",
       "<table border=\"1\" class=\"dataframe\">\n",
       "  <thead>\n",
       "    <tr>\n",
       "      <th></th>\n",
       "      <th colspan=\"5\" halign=\"left\">AGG</th>\n",
       "      <th colspan=\"5\" halign=\"left\">SPY</th>\n",
       "    </tr>\n",
       "    <tr>\n",
       "      <th></th>\n",
       "      <th>open</th>\n",
       "      <th>high</th>\n",
       "      <th>low</th>\n",
       "      <th>close</th>\n",
       "      <th>volume</th>\n",
       "      <th>open</th>\n",
       "      <th>high</th>\n",
       "      <th>low</th>\n",
       "      <th>close</th>\n",
       "      <th>volume</th>\n",
       "    </tr>\n",
       "    <tr>\n",
       "      <th>time</th>\n",
       "      <th></th>\n",
       "      <th></th>\n",
       "      <th></th>\n",
       "      <th></th>\n",
       "      <th></th>\n",
       "      <th></th>\n",
       "      <th></th>\n",
       "      <th></th>\n",
       "      <th></th>\n",
       "      <th></th>\n",
       "    </tr>\n",
       "  </thead>\n",
       "  <tbody>\n",
       "    <tr>\n",
       "      <th>2022-01-19 00:00:00-05:00</th>\n",
       "      <td>111.7</td>\n",
       "      <td>111.89</td>\n",
       "      <td>111.65</td>\n",
       "      <td>111.71</td>\n",
       "      <td>7641972</td>\n",
       "      <td>458.17</td>\n",
       "      <td>459.6124</td>\n",
       "      <td>451.46</td>\n",
       "      <td>451.79</td>\n",
       "      <td>95311817</td>\n",
       "    </tr>\n",
       "  </tbody>\n",
       "</table>\n",
       "</div>"
      ],
      "text/plain": [
       "                             AGG                                      SPY  \\\n",
       "                            open    high     low   close   volume    open   \n",
       "time                                                                        \n",
       "2022-01-19 00:00:00-05:00  111.7  111.89  111.65  111.71  7641972  458.17   \n",
       "\n",
       "                                                               \n",
       "                               high     low   close    volume  \n",
       "time                                                           \n",
       "2022-01-19 00:00:00-05:00  459.6124  451.46  451.79  95311817  "
      ]
     },
     "execution_count": 10,
     "metadata": {},
     "output_type": "execute_result"
    }
   ],
   "source": [
    "# Format current date as ISO format\n",
    "today = pd.Timestamp(\"2022-01-19\", tz=\"America/New_York\").isoformat()\n",
    "\n",
    "# Set the tickers\n",
    "tickers = [\"AGG\", \"SPY\"]\n",
    "\n",
    "# Set timeframe to '1D' for Alpaca API\n",
    "timeframe = \"1D\"\n",
    "\n",
    "# Get current closing prices for SPY and AGG\n",
    "# (use a limit=1000 parameter to call the most recent 1000 days of data)\n",
    "df_portfolio = api.get_barset(\n",
    "    tickers,\n",
    "    timeframe,\n",
    "    start = today,\n",
    "    end = today,\n",
    "    limit=1000\n",
    ").df\n",
    "\n",
    "# Preview DataFrame\n",
    "df_portfolio"
   ]
  },
  {
   "cell_type": "code",
   "execution_count": 11,
   "metadata": {},
   "outputs": [
    {
     "name": "stdout",
     "output_type": "stream",
     "text": [
      "Current AGG closing price: $111.71\n",
      "Current SPY closing price: $451.79\n"
     ]
    }
   ],
   "source": [
    "# Pick AGG and SPY close prices\n",
    "agg_close_price = df_portfolio[\"AGG\"][\"close\"].item()\n",
    "spy_close_price = df_portfolio[\"SPY\"][\"close\"].item()\n",
    "\n",
    "# Print AGG and SPY close prices\n",
    "print(f\"Current AGG closing price: ${agg_close_price}\")\n",
    "print(f\"Current SPY closing price: ${spy_close_price}\")"
   ]
  },
  {
   "cell_type": "code",
   "execution_count": 12,
   "metadata": {},
   "outputs": [
    {
     "name": "stdout",
     "output_type": "stream",
     "text": [
      "The current value of your 50 SPY shares is $22589.50\n",
      "The current value of your 200 AGG shares is $22342.00\n"
     ]
    }
   ],
   "source": [
    "# Compute the current value of shares\n",
    "my_agg_value = my_agg * agg_close_price\n",
    "my_spy_value = my_spy * spy_close_price\n",
    "\n",
    "# Print current value of shares\n",
    "print(f\"The current value of your {my_spy} SPY shares is ${my_spy_value:0.2f}\")\n",
    "print(f\"The current value of your {my_agg} AGG shares is ${my_agg_value:0.2f}\")"
   ]
  },
  {
   "cell_type": "markdown",
   "metadata": {},
   "source": [
    "### Savings Health Analysis"
   ]
  },
  {
   "cell_type": "code",
   "execution_count": 13,
   "metadata": {},
   "outputs": [
    {
     "data": {
      "text/html": [
       "<div>\n",
       "<style scoped>\n",
       "    .dataframe tbody tr th:only-of-type {\n",
       "        vertical-align: middle;\n",
       "    }\n",
       "\n",
       "    .dataframe tbody tr th {\n",
       "        vertical-align: top;\n",
       "    }\n",
       "\n",
       "    .dataframe thead th {\n",
       "        text-align: right;\n",
       "    }\n",
       "</style>\n",
       "<table border=\"1\" class=\"dataframe\">\n",
       "  <thead>\n",
       "    <tr style=\"text-align: right;\">\n",
       "      <th></th>\n",
       "      <th>Amount</th>\n",
       "    </tr>\n",
       "  </thead>\n",
       "  <tbody>\n",
       "    <tr>\n",
       "      <th>Crypto</th>\n",
       "      <td>53426.712</td>\n",
       "    </tr>\n",
       "    <tr>\n",
       "      <th>Shares</th>\n",
       "      <td>44931.500</td>\n",
       "    </tr>\n",
       "  </tbody>\n",
       "</table>\n",
       "</div>"
      ],
      "text/plain": [
       "           Amount\n",
       "Crypto  53426.712\n",
       "Shares  44931.500"
      ]
     },
     "metadata": {},
     "output_type": "display_data"
    }
   ],
   "source": [
    "# Set monthly household income\n",
    "monthly_income = 12000\n",
    "\n",
    "# Consolidate financial assets data\n",
    "total_portfolio_dictionary = {'Amount': [my_btc_value+my_eth_value, my_spy_value+my_agg_value]}\n",
    "\n",
    "# Create savings DataFrame\n",
    "df_savings = pd.DataFrame(total_portfolio_dictionary,index=['Crypto','Shares'])\n",
    "\n",
    "# Display savings DataFrame\n",
    "display(df_savings)"
   ]
  },
  {
   "cell_type": "code",
   "execution_count": 14,
   "metadata": {},
   "outputs": [
    {
     "data": {
      "text/plain": [
       "array([<AxesSubplot:ylabel='Amount'>], dtype=object)"
      ]
     },
     "execution_count": 14,
     "metadata": {},
     "output_type": "execute_result"
    },
    {
     "data": {
      "image/png": "[encoded data removed]",
      "text/plain": [
       "<Figure size 432x288 with 1 Axes>"
      ]
     },
     "metadata": {},
     "output_type": "display_data"
    }
   ],
   "source": [
    "# Plot savings pie chart\n",
    "df_savings.plot(kind='pie', subplots=True)"
   ]
  },
  {
   "cell_type": "code",
   "execution_count": 15,
   "metadata": {},
   "outputs": [
    {
     "name": "stdout",
     "output_type": "stream",
     "text": [
      "Congratulations! You have more than 3x your monthly income in your emergency fund.\n"
     ]
    }
   ],
   "source": [
    "# Set ideal emergency fund\n",
    "emergency_fund = monthly_income * 3\n",
    "\n",
    "# Calculate total amount of savings\n",
    "total_savings = df_savings.sum().item()\n",
    "total_savings\n",
    "\n",
    "# Validate saving health\n",
    "if total_savings > emergency_fund:\n",
    "    print(\"Congratulations! You have more than 3x your monthly income in your emergency fund.\")\n",
    "elif total_savings == emergency_fund:\n",
    "    print(\"Congratulations! You reached your goal of 3x your monthly income in your emergency fund.\")\n",
    "else:\n",
    "    print(f'You are ${emergency_fund - total_savings} away from reaching your goal of 3x your monthly income in your emergency fund.')"
   ]
  },
  {
   "cell_type": "markdown",
   "metadata": {},
   "source": [
    "## Part 2 - Retirement Planning\n",
    "\n",
    "### Monte Carlo Simulation"
   ]
  },
  {
   "cell_type": "code",
   "execution_count": 16,
   "metadata": {},
   "outputs": [],
   "source": [
    "# Set start and end dates of five years back from today.\n",
    "# Sample results may vary from the solution based on the time frame chosen\n",
    "start_date = pd.Timestamp('2017-01-19', tz='America/New_York').isoformat()\n",
    "end_date = pd.Timestamp('2022-01-19', tz='America/New_York').isoformat()"
   ]
  },
  {
   "cell_type": "code",
   "execution_count": 17,
   "metadata": {},
   "outputs": [
    {
     "data": {
      "text/html": [
       "<div>\n",
       "<style scoped>\n",
       "    .dataframe tbody tr th:only-of-type {\n",
       "        vertical-align: middle;\n",
       "    }\n",
       "\n",
       "    .dataframe tbody tr th {\n",
       "        vertical-align: top;\n",
       "    }\n",
       "\n",
       "    .dataframe thead tr th {\n",
       "        text-align: left;\n",
       "    }\n",
       "\n",
       "    .dataframe thead tr:last-of-type th {\n",
       "        text-align: right;\n",
       "    }\n",
       "</style>\n",
       "<table border=\"1\" class=\"dataframe\">\n",
       "  <thead>\n",
       "    <tr>\n",
       "      <th></th>\n",
       "      <th colspan=\"5\" halign=\"left\">AGG</th>\n",
       "      <th colspan=\"5\" halign=\"left\">SPY</th>\n",
       "    </tr>\n",
       "    <tr>\n",
       "      <th></th>\n",
       "      <th>open</th>\n",
       "      <th>high</th>\n",
       "      <th>low</th>\n",
       "      <th>close</th>\n",
       "      <th>volume</th>\n",
       "      <th>open</th>\n",
       "      <th>high</th>\n",
       "      <th>low</th>\n",
       "      <th>close</th>\n",
       "      <th>volume</th>\n",
       "    </tr>\n",
       "    <tr>\n",
       "      <th>time</th>\n",
       "      <th></th>\n",
       "      <th></th>\n",
       "      <th></th>\n",
       "      <th></th>\n",
       "      <th></th>\n",
       "      <th></th>\n",
       "      <th></th>\n",
       "      <th></th>\n",
       "      <th></th>\n",
       "      <th></th>\n",
       "    </tr>\n",
       "  </thead>\n",
       "  <tbody>\n",
       "    <tr>\n",
       "      <th>2018-01-31 00:00:00-05:00</th>\n",
       "      <td>108.20</td>\n",
       "      <td>108.210</td>\n",
       "      <td>107.88</td>\n",
       "      <td>108.09</td>\n",
       "      <td>5729791</td>\n",
       "      <td>282.73</td>\n",
       "      <td>283.30</td>\n",
       "      <td>280.68</td>\n",
       "      <td>281.91</td>\n",
       "      <td>76360186</td>\n",
       "    </tr>\n",
       "    <tr>\n",
       "      <th>2018-02-01 00:00:00-05:00</th>\n",
       "      <td>107.75</td>\n",
       "      <td>107.825</td>\n",
       "      <td>107.48</td>\n",
       "      <td>107.49</td>\n",
       "      <td>8569565</td>\n",
       "      <td>281.04</td>\n",
       "      <td>283.06</td>\n",
       "      <td>280.68</td>\n",
       "      <td>281.60</td>\n",
       "      <td>64693558</td>\n",
       "    </tr>\n",
       "    <tr>\n",
       "      <th>2018-02-02 00:00:00-05:00</th>\n",
       "      <td>107.25</td>\n",
       "      <td>107.345</td>\n",
       "      <td>107.10</td>\n",
       "      <td>107.20</td>\n",
       "      <td>4266243</td>\n",
       "      <td>280.08</td>\n",
       "      <td>280.23</td>\n",
       "      <td>275.41</td>\n",
       "      <td>275.52</td>\n",
       "      <td>121717871</td>\n",
       "    </tr>\n",
       "    <tr>\n",
       "      <th>2018-02-05 00:00:00-05:00</th>\n",
       "      <td>107.12</td>\n",
       "      <td>107.810</td>\n",
       "      <td>107.00</td>\n",
       "      <td>107.63</td>\n",
       "      <td>4879995</td>\n",
       "      <td>273.47</td>\n",
       "      <td>275.85</td>\n",
       "      <td>263.31</td>\n",
       "      <td>264.18</td>\n",
       "      <td>205971586</td>\n",
       "    </tr>\n",
       "    <tr>\n",
       "      <th>2018-02-06 00:00:00-05:00</th>\n",
       "      <td>107.46</td>\n",
       "      <td>107.560</td>\n",
       "      <td>107.28</td>\n",
       "      <td>107.30</td>\n",
       "      <td>5489931</td>\n",
       "      <td>259.99</td>\n",
       "      <td>269.70</td>\n",
       "      <td>254.12</td>\n",
       "      <td>269.18</td>\n",
       "      <td>232359323</td>\n",
       "    </tr>\n",
       "  </tbody>\n",
       "</table>\n",
       "</div>"
      ],
      "text/plain": [
       "                              AGG                                       SPY  \\\n",
       "                             open     high     low   close   volume    open   \n",
       "time                                                                          \n",
       "2018-01-31 00:00:00-05:00  108.20  108.210  107.88  108.09  5729791  282.73   \n",
       "2018-02-01 00:00:00-05:00  107.75  107.825  107.48  107.49  8569565  281.04   \n",
       "2018-02-02 00:00:00-05:00  107.25  107.345  107.10  107.20  4266243  280.08   \n",
       "2018-02-05 00:00:00-05:00  107.12  107.810  107.00  107.63  4879995  273.47   \n",
       "2018-02-06 00:00:00-05:00  107.46  107.560  107.28  107.30  5489931  259.99   \n",
       "\n",
       "                                                              \n",
       "                             high     low   close     volume  \n",
       "time                                                          \n",
       "2018-01-31 00:00:00-05:00  283.30  280.68  281.91   76360186  \n",
       "2018-02-01 00:00:00-05:00  283.06  280.68  281.60   64693558  \n",
       "2018-02-02 00:00:00-05:00  280.23  275.41  275.52  121717871  \n",
       "2018-02-05 00:00:00-05:00  275.85  263.31  264.18  205971586  \n",
       "2018-02-06 00:00:00-05:00  269.70  254.12  269.18  232359323  "
      ]
     },
     "execution_count": 17,
     "metadata": {},
     "output_type": "execute_result"
    }
   ],
   "source": [
    "# Get 5 years' worth of historical data for SPY and AGG\n",
    "# (use a limit=1000 parameter to call the most recent 1000 days of data)\n",
    "df_stock_data = api.get_barset(\n",
    "    tickers,\n",
    "    timeframe,\n",
    "    start = start_date,\n",
    "    end = end_date,\n",
    "    limit=1000\n",
    ").df.dropna()\n",
    "\n",
    "# Display sample data\n",
    "df_stock_data.head()"
   ]
  },
  {
   "cell_type": "code",
   "execution_count": 18,
   "metadata": {},
   "outputs": [],
   "source": [
    "# Configuring a Monte Carlo simulation to forecast 30 years cumulative returns\n",
    "MC = MCSimulation(\n",
    "    portfolio_data = df_stock_data,\n",
    "    weights = [.40,.60],\n",
    "    num_simulation = 500,\n",
    "    num_trading_days = 252*30)"
   ]
  },
  {
   "cell_type": "code",
   "execution_count": 19,
   "metadata": {},
   "outputs": [
    {
     "data": {
      "text/html": [
       "<div>\n",
       "<style scoped>\n",
       "    .dataframe tbody tr th:only-of-type {\n",
       "        vertical-align: middle;\n",
       "    }\n",
       "\n",
       "    .dataframe tbody tr th {\n",
       "        vertical-align: top;\n",
       "    }\n",
       "\n",
       "    .dataframe thead tr th {\n",
       "        text-align: left;\n",
       "    }\n",
       "\n",
       "    .dataframe thead tr:last-of-type th {\n",
       "        text-align: right;\n",
       "    }\n",
       "</style>\n",
       "<table border=\"1\" class=\"dataframe\">\n",
       "  <thead>\n",
       "    <tr>\n",
       "      <th></th>\n",
       "      <th colspan=\"6\" halign=\"left\">AGG</th>\n",
       "      <th colspan=\"6\" halign=\"left\">SPY</th>\n",
       "    </tr>\n",
       "    <tr>\n",
       "      <th></th>\n",
       "      <th>open</th>\n",
       "      <th>high</th>\n",
       "      <th>low</th>\n",
       "      <th>close</th>\n",
       "      <th>volume</th>\n",
       "      <th>daily_return</th>\n",
       "      <th>open</th>\n",
       "      <th>high</th>\n",
       "      <th>low</th>\n",
       "      <th>close</th>\n",
       "      <th>volume</th>\n",
       "      <th>daily_return</th>\n",
       "    </tr>\n",
       "    <tr>\n",
       "      <th>time</th>\n",
       "      <th></th>\n",
       "      <th></th>\n",
       "      <th></th>\n",
       "      <th></th>\n",
       "      <th></th>\n",
       "      <th></th>\n",
       "      <th></th>\n",
       "      <th></th>\n",
       "      <th></th>\n",
       "      <th></th>\n",
       "      <th></th>\n",
       "      <th></th>\n",
       "    </tr>\n",
       "  </thead>\n",
       "  <tbody>\n",
       "    <tr>\n",
       "      <th>2018-01-31 00:00:00-05:00</th>\n",
       "      <td>108.20</td>\n",
       "      <td>108.210</td>\n",
       "      <td>107.88</td>\n",
       "      <td>108.09</td>\n",
       "      <td>5729791</td>\n",
       "      <td>NaN</td>\n",
       "      <td>282.73</td>\n",
       "      <td>283.30</td>\n",
       "      <td>280.68</td>\n",
       "      <td>281.91</td>\n",
       "      <td>76360186</td>\n",
       "      <td>NaN</td>\n",
       "    </tr>\n",
       "    <tr>\n",
       "      <th>2018-02-01 00:00:00-05:00</th>\n",
       "      <td>107.75</td>\n",
       "      <td>107.825</td>\n",
       "      <td>107.48</td>\n",
       "      <td>107.49</td>\n",
       "      <td>8569565</td>\n",
       "      <td>-0.005551</td>\n",
       "      <td>281.04</td>\n",
       "      <td>283.06</td>\n",
       "      <td>280.68</td>\n",
       "      <td>281.60</td>\n",
       "      <td>64693558</td>\n",
       "      <td>-0.001100</td>\n",
       "    </tr>\n",
       "    <tr>\n",
       "      <th>2018-02-02 00:00:00-05:00</th>\n",
       "      <td>107.25</td>\n",
       "      <td>107.345</td>\n",
       "      <td>107.10</td>\n",
       "      <td>107.20</td>\n",
       "      <td>4266243</td>\n",
       "      <td>-0.002698</td>\n",
       "      <td>280.08</td>\n",
       "      <td>280.23</td>\n",
       "      <td>275.41</td>\n",
       "      <td>275.52</td>\n",
       "      <td>121717871</td>\n",
       "      <td>-0.021591</td>\n",
       "    </tr>\n",
       "    <tr>\n",
       "      <th>2018-02-05 00:00:00-05:00</th>\n",
       "      <td>107.12</td>\n",
       "      <td>107.810</td>\n",
       "      <td>107.00</td>\n",
       "      <td>107.63</td>\n",
       "      <td>4879995</td>\n",
       "      <td>0.004011</td>\n",
       "      <td>273.47</td>\n",
       "      <td>275.85</td>\n",
       "      <td>263.31</td>\n",
       "      <td>264.18</td>\n",
       "      <td>205971586</td>\n",
       "      <td>-0.041159</td>\n",
       "    </tr>\n",
       "    <tr>\n",
       "      <th>2018-02-06 00:00:00-05:00</th>\n",
       "      <td>107.46</td>\n",
       "      <td>107.560</td>\n",
       "      <td>107.28</td>\n",
       "      <td>107.30</td>\n",
       "      <td>5489931</td>\n",
       "      <td>-0.003066</td>\n",
       "      <td>259.99</td>\n",
       "      <td>269.70</td>\n",
       "      <td>254.12</td>\n",
       "      <td>269.18</td>\n",
       "      <td>232359323</td>\n",
       "      <td>0.018926</td>\n",
       "    </tr>\n",
       "  </tbody>\n",
       "</table>\n",
       "</div>"
      ],
      "text/plain": [
       "                              AGG                                    \\\n",
       "                             open     high     low   close   volume   \n",
       "time                                                                  \n",
       "2018-01-31 00:00:00-05:00  108.20  108.210  107.88  108.09  5729791   \n",
       "2018-02-01 00:00:00-05:00  107.75  107.825  107.48  107.49  8569565   \n",
       "2018-02-02 00:00:00-05:00  107.25  107.345  107.10  107.20  4266243   \n",
       "2018-02-05 00:00:00-05:00  107.12  107.810  107.00  107.63  4879995   \n",
       "2018-02-06 00:00:00-05:00  107.46  107.560  107.28  107.30  5489931   \n",
       "\n",
       "                                           SPY                          \\\n",
       "                          daily_return    open    high     low   close   \n",
       "time                                                                     \n",
       "2018-01-31 00:00:00-05:00          NaN  282.73  283.30  280.68  281.91   \n",
       "2018-02-01 00:00:00-05:00    -0.005551  281.04  283.06  280.68  281.60   \n",
       "2018-02-02 00:00:00-05:00    -0.002698  280.08  280.23  275.41  275.52   \n",
       "2018-02-05 00:00:00-05:00     0.004011  273.47  275.85  263.31  264.18   \n",
       "2018-02-06 00:00:00-05:00    -0.003066  259.99  269.70  254.12  269.18   \n",
       "\n",
       "                                                   \n",
       "                              volume daily_return  \n",
       "time                                               \n",
       "2018-01-31 00:00:00-05:00   76360186          NaN  \n",
       "2018-02-01 00:00:00-05:00   64693558    -0.001100  \n",
       "2018-02-02 00:00:00-05:00  121717871    -0.021591  \n",
       "2018-02-05 00:00:00-05:00  205971586    -0.041159  \n",
       "2018-02-06 00:00:00-05:00  232359323     0.018926  "
      ]
     },
     "execution_count": 19,
     "metadata": {},
     "output_type": "execute_result"
    }
   ],
   "source": [
    "# Printing the simulation input data\n",
    "MC.portfolio_data.head()"
   ]
  },
  {
   "cell_type": "code",
   "execution_count": 20,
   "metadata": {},
   "outputs": [
    {
     "name": "stdout",
     "output_type": "stream",
     "text": [
      "Running Monte Carlo simulation number 0.\n",
      "Running Monte Carlo simulation number 10.\n",
      "Running Monte Carlo simulation number 20.\n",
      "Running Monte Carlo simulation number 30.\n",
      "Running Monte Carlo simulation number 40.\n",
      "Running Monte Carlo simulation number 50.\n",
      "Running Monte Carlo simulation number 60.\n",
      "Running Monte Carlo simulation number 70.\n",
      "Running Monte Carlo simulation number 80.\n",
      "Running Monte Carlo simulation number 90.\n",
      "Running Monte Carlo simulation number 100.\n"
     ]
    },
    {
     "name": "stderr",
     "output_type": "stream",
     "text": [
      "/Users/focraniv/Desktop/homework_repo/hw_5/Financial-Planning/Starter_Code/MCForecastTools.py:117: PerformanceWarning: DataFrame is highly fragmented.  This is usually the result of calling `frame.insert` many times, which has poor performance.  Consider joining all columns at once using pd.concat(axis=1) instead.  To get a de-fragmented frame, use `newframe = frame.copy()`\n",
      "  portfolio_cumulative_returns[n] = (1 + sim_df.fillna(0)).cumprod()\n"
     ]
    },
    {
     "name": "stdout",
     "output_type": "stream",
     "text": [
      "Running Monte Carlo simulation number 110.\n",
      "Running Monte Carlo simulation number 120.\n",
      "Running Monte Carlo simulation number 130.\n",
      "Running Monte Carlo simulation number 140.\n",
      "Running Monte Carlo simulation number 150.\n",
      "Running Monte Carlo simulation number 160.\n",
      "Running Monte Carlo simulation number 170.\n",
      "Running Monte Carlo simulation number 180.\n",
      "Running Monte Carlo simulation number 190.\n",
      "Running Monte Carlo simulation number 200.\n",
      "Running Monte Carlo simulation number 210.\n",
      "Running Monte Carlo simulation number 220.\n",
      "Running Monte Carlo simulation number 230.\n",
      "Running Monte Carlo simulation number 240.\n",
      "Running Monte Carlo simulation number 250.\n",
      "Running Monte Carlo simulation number 260.\n",
      "Running Monte Carlo simulation number 270.\n",
      "Running Monte Carlo simulation number 280.\n",
      "Running Monte Carlo simulation number 290.\n",
      "Running Monte Carlo simulation number 300.\n",
      "Running Monte Carlo simulation number 310.\n",
      "Running Monte Carlo simulation number 320.\n",
      "Running Monte Carlo simulation number 330.\n",
      "Running Monte Carlo simulation number 340.\n",
      "Running Monte Carlo simulation number 350.\n",
      "Running Monte Carlo simulation number 360.\n",
      "Running Monte Carlo simulation number 370.\n",
      "Running Monte Carlo simulation number 380.\n",
      "Running Monte Carlo simulation number 390.\n",
      "Running Monte Carlo simulation number 400.\n",
      "Running Monte Carlo simulation number 410.\n",
      "Running Monte Carlo simulation number 420.\n",
      "Running Monte Carlo simulation number 430.\n",
      "Running Monte Carlo simulation number 440.\n",
      "Running Monte Carlo simulation number 450.\n",
      "Running Monte Carlo simulation number 460.\n",
      "Running Monte Carlo simulation number 470.\n",
      "Running Monte Carlo simulation number 480.\n",
      "Running Monte Carlo simulation number 490.\n"
     ]
    },
    {
     "data": {
      "text/html": [
       "<div>\n",
       "<style scoped>\n",
       "    .dataframe tbody tr th:only-of-type {\n",
       "        vertical-align: middle;\n",
       "    }\n",
       "\n",
       "    .dataframe tbody tr th {\n",
       "        vertical-align: top;\n",
       "    }\n",
       "\n",
       "    .dataframe thead th {\n",
       "        text-align: right;\n",
       "    }\n",
       "</style>\n",
       "<table border=\"1\" class=\"dataframe\">\n",
       "  <thead>\n",
       "    <tr style=\"text-align: right;\">\n",
       "      <th></th>\n",
       "      <th>0</th>\n",
       "      <th>1</th>\n",
       "      <th>2</th>\n",
       "      <th>3</th>\n",
       "      <th>4</th>\n",
       "      <th>5</th>\n",
       "      <th>6</th>\n",
       "      <th>7</th>\n",
       "      <th>8</th>\n",
       "      <th>9</th>\n",
       "      <th>...</th>\n",
       "      <th>490</th>\n",
       "      <th>491</th>\n",
       "      <th>492</th>\n",
       "      <th>493</th>\n",
       "      <th>494</th>\n",
       "      <th>495</th>\n",
       "      <th>496</th>\n",
       "      <th>497</th>\n",
       "      <th>498</th>\n",
       "      <th>499</th>\n",
       "    </tr>\n",
       "  </thead>\n",
       "  <tbody>\n",
       "    <tr>\n",
       "      <th>0</th>\n",
       "      <td>1.000000</td>\n",
       "      <td>1.000000</td>\n",
       "      <td>1.000000</td>\n",
       "      <td>1.000000</td>\n",
       "      <td>1.000000</td>\n",
       "      <td>1.000000</td>\n",
       "      <td>1.000000</td>\n",
       "      <td>1.000000</td>\n",
       "      <td>1.000000</td>\n",
       "      <td>1.000000</td>\n",
       "      <td>...</td>\n",
       "      <td>1.000000</td>\n",
       "      <td>1.000000</td>\n",
       "      <td>1.000000</td>\n",
       "      <td>1.000000</td>\n",
       "      <td>1.000000</td>\n",
       "      <td>1.000000</td>\n",
       "      <td>1.000000</td>\n",
       "      <td>1.000000</td>\n",
       "      <td>1.000000</td>\n",
       "      <td>1.000000</td>\n",
       "    </tr>\n",
       "    <tr>\n",
       "      <th>1</th>\n",
       "      <td>0.995733</td>\n",
       "      <td>0.992400</td>\n",
       "      <td>0.998535</td>\n",
       "      <td>1.000688</td>\n",
       "      <td>1.008550</td>\n",
       "      <td>1.006686</td>\n",
       "      <td>1.001597</td>\n",
       "      <td>0.995496</td>\n",
       "      <td>0.993762</td>\n",
       "      <td>0.975283</td>\n",
       "      <td>...</td>\n",
       "      <td>0.993859</td>\n",
       "      <td>0.999107</td>\n",
       "      <td>0.998138</td>\n",
       "      <td>0.999217</td>\n",
       "      <td>1.003171</td>\n",
       "      <td>1.002514</td>\n",
       "      <td>0.991100</td>\n",
       "      <td>0.997376</td>\n",
       "      <td>0.989151</td>\n",
       "      <td>1.007284</td>\n",
       "    </tr>\n",
       "    <tr>\n",
       "      <th>2</th>\n",
       "      <td>1.005448</td>\n",
       "      <td>0.990537</td>\n",
       "      <td>1.012847</td>\n",
       "      <td>0.994321</td>\n",
       "      <td>1.013542</td>\n",
       "      <td>1.003022</td>\n",
       "      <td>0.992897</td>\n",
       "      <td>1.000750</td>\n",
       "      <td>0.992057</td>\n",
       "      <td>0.982278</td>\n",
       "      <td>...</td>\n",
       "      <td>0.988823</td>\n",
       "      <td>1.010227</td>\n",
       "      <td>0.994659</td>\n",
       "      <td>0.988819</td>\n",
       "      <td>0.996768</td>\n",
       "      <td>0.997161</td>\n",
       "      <td>1.002953</td>\n",
       "      <td>0.997513</td>\n",
       "      <td>0.999642</td>\n",
       "      <td>0.993808</td>\n",
       "    </tr>\n",
       "    <tr>\n",
       "      <th>3</th>\n",
       "      <td>0.998129</td>\n",
       "      <td>0.990244</td>\n",
       "      <td>1.009111</td>\n",
       "      <td>0.981528</td>\n",
       "      <td>1.017690</td>\n",
       "      <td>1.006517</td>\n",
       "      <td>1.000123</td>\n",
       "      <td>1.009024</td>\n",
       "      <td>0.991340</td>\n",
       "      <td>0.983721</td>\n",
       "      <td>...</td>\n",
       "      <td>0.996533</td>\n",
       "      <td>1.015536</td>\n",
       "      <td>1.015387</td>\n",
       "      <td>0.999610</td>\n",
       "      <td>1.013061</td>\n",
       "      <td>1.002313</td>\n",
       "      <td>1.006727</td>\n",
       "      <td>0.999059</td>\n",
       "      <td>0.986943</td>\n",
       "      <td>0.983903</td>\n",
       "    </tr>\n",
       "    <tr>\n",
       "      <th>4</th>\n",
       "      <td>0.994234</td>\n",
       "      <td>0.989831</td>\n",
       "      <td>1.007931</td>\n",
       "      <td>0.998573</td>\n",
       "      <td>1.029507</td>\n",
       "      <td>1.011999</td>\n",
       "      <td>1.004906</td>\n",
       "      <td>1.017728</td>\n",
       "      <td>0.989025</td>\n",
       "      <td>0.978831</td>\n",
       "      <td>...</td>\n",
       "      <td>0.991457</td>\n",
       "      <td>1.019937</td>\n",
       "      <td>1.022180</td>\n",
       "      <td>1.000680</td>\n",
       "      <td>1.011784</td>\n",
       "      <td>1.006251</td>\n",
       "      <td>0.997521</td>\n",
       "      <td>0.994502</td>\n",
       "      <td>0.985246</td>\n",
       "      <td>0.982324</td>\n",
       "    </tr>\n",
       "    <tr>\n",
       "      <th>...</th>\n",
       "      <td>...</td>\n",
       "      <td>...</td>\n",
       "      <td>...</td>\n",
       "      <td>...</td>\n",
       "      <td>...</td>\n",
       "      <td>...</td>\n",
       "      <td>...</td>\n",
       "      <td>...</td>\n",
       "      <td>...</td>\n",
       "      <td>...</td>\n",
       "      <td>...</td>\n",
       "      <td>...</td>\n",
       "      <td>...</td>\n",
       "      <td>...</td>\n",
       "      <td>...</td>\n",
       "      <td>...</td>\n",
       "      <td>...</td>\n",
       "      <td>...</td>\n",
       "      <td>...</td>\n",
       "      <td>...</td>\n",
       "      <td>...</td>\n",
       "    </tr>\n",
       "    <tr>\n",
       "      <th>7556</th>\n",
       "      <td>13.536019</td>\n",
       "      <td>0.983080</td>\n",
       "      <td>5.225382</td>\n",
       "      <td>6.712709</td>\n",
       "      <td>6.135308</td>\n",
       "      <td>17.791281</td>\n",
       "      <td>16.019555</td>\n",
       "      <td>11.942522</td>\n",
       "      <td>13.574749</td>\n",
       "      <td>6.279179</td>\n",
       "      <td>...</td>\n",
       "      <td>17.286777</td>\n",
       "      <td>19.054847</td>\n",
       "      <td>30.502406</td>\n",
       "      <td>13.709509</td>\n",
       "      <td>4.880613</td>\n",
       "      <td>6.174604</td>\n",
       "      <td>39.065081</td>\n",
       "      <td>8.297052</td>\n",
       "      <td>3.935669</td>\n",
       "      <td>12.908827</td>\n",
       "    </tr>\n",
       "    <tr>\n",
       "      <th>7557</th>\n",
       "      <td>13.574432</td>\n",
       "      <td>0.960534</td>\n",
       "      <td>5.253822</td>\n",
       "      <td>6.697635</td>\n",
       "      <td>6.202175</td>\n",
       "      <td>17.884112</td>\n",
       "      <td>16.187837</td>\n",
       "      <td>12.056525</td>\n",
       "      <td>13.470879</td>\n",
       "      <td>6.347739</td>\n",
       "      <td>...</td>\n",
       "      <td>17.381586</td>\n",
       "      <td>19.143285</td>\n",
       "      <td>30.863799</td>\n",
       "      <td>13.790591</td>\n",
       "      <td>4.843781</td>\n",
       "      <td>6.147557</td>\n",
       "      <td>38.944956</td>\n",
       "      <td>8.276014</td>\n",
       "      <td>3.991331</td>\n",
       "      <td>12.954765</td>\n",
       "    </tr>\n",
       "    <tr>\n",
       "      <th>7558</th>\n",
       "      <td>13.678882</td>\n",
       "      <td>0.970131</td>\n",
       "      <td>5.243850</td>\n",
       "      <td>6.735436</td>\n",
       "      <td>6.240999</td>\n",
       "      <td>17.923714</td>\n",
       "      <td>16.564530</td>\n",
       "      <td>11.908338</td>\n",
       "      <td>13.402548</td>\n",
       "      <td>6.300642</td>\n",
       "      <td>...</td>\n",
       "      <td>17.211789</td>\n",
       "      <td>19.221383</td>\n",
       "      <td>31.047231</td>\n",
       "      <td>13.556044</td>\n",
       "      <td>4.748795</td>\n",
       "      <td>6.224134</td>\n",
       "      <td>38.978837</td>\n",
       "      <td>8.310419</td>\n",
       "      <td>3.988173</td>\n",
       "      <td>12.918079</td>\n",
       "    </tr>\n",
       "    <tr>\n",
       "      <th>7559</th>\n",
       "      <td>13.778124</td>\n",
       "      <td>0.975761</td>\n",
       "      <td>5.281362</td>\n",
       "      <td>6.677781</td>\n",
       "      <td>6.260256</td>\n",
       "      <td>17.898440</td>\n",
       "      <td>16.636054</td>\n",
       "      <td>11.831134</td>\n",
       "      <td>13.730810</td>\n",
       "      <td>6.318376</td>\n",
       "      <td>...</td>\n",
       "      <td>17.155820</td>\n",
       "      <td>19.116425</td>\n",
       "      <td>31.208014</td>\n",
       "      <td>13.463028</td>\n",
       "      <td>4.717071</td>\n",
       "      <td>6.249554</td>\n",
       "      <td>38.773575</td>\n",
       "      <td>8.291039</td>\n",
       "      <td>3.998921</td>\n",
       "      <td>12.943737</td>\n",
       "    </tr>\n",
       "    <tr>\n",
       "      <th>7560</th>\n",
       "      <td>13.579400</td>\n",
       "      <td>0.979537</td>\n",
       "      <td>5.283782</td>\n",
       "      <td>6.686425</td>\n",
       "      <td>6.306754</td>\n",
       "      <td>17.829887</td>\n",
       "      <td>16.523664</td>\n",
       "      <td>11.804528</td>\n",
       "      <td>13.633706</td>\n",
       "      <td>6.326553</td>\n",
       "      <td>...</td>\n",
       "      <td>17.142775</td>\n",
       "      <td>19.209716</td>\n",
       "      <td>30.822222</td>\n",
       "      <td>13.421085</td>\n",
       "      <td>4.634604</td>\n",
       "      <td>6.267914</td>\n",
       "      <td>38.658553</td>\n",
       "      <td>8.408525</td>\n",
       "      <td>4.053654</td>\n",
       "      <td>13.046844</td>\n",
       "    </tr>\n",
       "  </tbody>\n",
       "</table>\n",
       "<p>7561 rows × 500 columns</p>\n",
       "</div>"
      ],
      "text/plain": [
       "            0         1         2         3         4          5          6    \\\n",
       "0      1.000000  1.000000  1.000000  1.000000  1.000000   1.000000   1.000000   \n",
       "1      0.995733  0.992400  0.998535  1.000688  1.008550   1.006686   1.001597   \n",
       "2      1.005448  0.990537  1.012847  0.994321  1.013542   1.003022   0.992897   \n",
       "3      0.998129  0.990244  1.009111  0.981528  1.017690   1.006517   1.000123   \n",
       "4      0.994234  0.989831  1.007931  0.998573  1.029507   1.011999   1.004906   \n",
       "...         ...       ...       ...       ...       ...        ...        ...   \n",
       "7556  13.536019  0.983080  5.225382  6.712709  6.135308  17.791281  16.019555   \n",
       "7557  13.574432  0.960534  5.253822  6.697635  6.202175  17.884112  16.187837   \n",
       "7558  13.678882  0.970131  5.243850  6.735436  6.240999  17.923714  16.564530   \n",
       "7559  13.778124  0.975761  5.281362  6.677781  6.260256  17.898440  16.636054   \n",
       "7560  13.579400  0.979537  5.283782  6.686425  6.306754  17.829887  16.523664   \n",
       "\n",
       "            7          8         9    ...        490        491        492  \\\n",
       "0      1.000000   1.000000  1.000000  ...   1.000000   1.000000   1.000000   \n",
       "1      0.995496   0.993762  0.975283  ...   0.993859   0.999107   0.998138   \n",
       "2      1.000750   0.992057  0.982278  ...   0.988823   1.010227   0.994659   \n",
       "3      1.009024   0.991340  0.983721  ...   0.996533   1.015536   1.015387   \n",
       "4      1.017728   0.989025  0.978831  ...   0.991457   1.019937   1.022180   \n",
       "...         ...        ...       ...  ...        ...        ...        ...   \n",
       "7556  11.942522  13.574749  6.279179  ...  17.286777  19.054847  30.502406   \n",
       "7557  12.056525  13.470879  6.347739  ...  17.381586  19.143285  30.863799   \n",
       "7558  11.908338  13.402548  6.300642  ...  17.211789  19.221383  31.047231   \n",
       "7559  11.831134  13.730810  6.318376  ...  17.155820  19.116425  31.208014   \n",
       "7560  11.804528  13.633706  6.326553  ...  17.142775  19.209716  30.822222   \n",
       "\n",
       "            493       494       495        496       497       498        499  \n",
       "0      1.000000  1.000000  1.000000   1.000000  1.000000  1.000000   1.000000  \n",
       "1      0.999217  1.003171  1.002514   0.991100  0.997376  0.989151   1.007284  \n",
       "2      0.988819  0.996768  0.997161   1.002953  0.997513  0.999642   0.993808  \n",
       "3      0.999610  1.013061  1.002313   1.006727  0.999059  0.986943   0.983903  \n",
       "4      1.000680  1.011784  1.006251   0.997521  0.994502  0.985246   0.982324  \n",
       "...         ...       ...       ...        ...       ...       ...        ...  \n",
       "7556  13.709509  4.880613  6.174604  39.065081  8.297052  3.935669  12.908827  \n",
       "7557  13.790591  4.843781  6.147557  38.944956  8.276014  3.991331  12.954765  \n",
       "7558  13.556044  4.748795  6.224134  38.978837  8.310419  3.988173  12.918079  \n",
       "7559  13.463028  4.717071  6.249554  38.773575  8.291039  3.998921  12.943737  \n",
       "7560  13.421085  4.634604  6.267914  38.658553  8.408525  4.053654  13.046844  \n",
       "\n",
       "[7561 rows x 500 columns]"
      ]
     },
     "execution_count": 20,
     "metadata": {},
     "output_type": "execute_result"
    }
   ],
   "source": [
    "# Running a Monte Carlo simulation to forecast 30 years cumulative returns\n",
    "MC.calc_cumulative_return()"
   ]
  },
  {
   "cell_type": "code",
   "execution_count": 21,
   "metadata": {},
   "outputs": [
    {
     "data": {
      "image/png": "[encoded data removed]",
      "text/plain": [
       "<Figure size 432x288 with 1 Axes>"
      ]
     },
     "metadata": {
      "needs_background": "light"
     },
     "output_type": "display_data"
    }
   ],
   "source": [
    "# Plot simulation outcomes\n",
    "line_plot = MC.plot_simulation()"
   ]
  },
  {
   "cell_type": "code",
   "execution_count": 22,
   "metadata": {},
   "outputs": [
    {
     "data": {
      "image/png": "[encoded data removed]",
      "text/plain": [
       "<Figure size 432x288 with 1 Axes>"
      ]
     },
     "metadata": {
      "needs_background": "light"
     },
     "output_type": "display_data"
    }
   ],
   "source": [
    "# Plot probability distribution and confidence intervals\n",
    "dist_plot = MC.plot_distribution()"
   ]
  },
  {
   "cell_type": "markdown",
   "metadata": {},
   "source": [
    "### Retirement Analysis"
   ]
  },
  {
   "cell_type": "code",
   "execution_count": 23,
   "metadata": {},
   "outputs": [
    {
     "name": "stdout",
     "output_type": "stream",
     "text": [
      "count           500.000000\n",
      "mean             14.884385\n",
      "std              12.513797\n",
      "min               0.979537\n",
      "25%               6.959590\n",
      "50%              11.623187\n",
      "75%              18.799839\n",
      "max             111.753184\n",
      "95% CI Lower      2.838817\n",
      "95% CI Upper     45.896543\n",
      "Name: 7560, dtype: float64\n"
     ]
    }
   ],
   "source": [
    "# Fetch summary statistics from the Monte Carlo simulation results\n",
    "tbl = MC.summarize_cumulative_return()\n",
    "\n",
    "# Print summary statistics\n",
    "print(tbl)"
   ]
  },
  {
   "cell_type": "markdown",
   "metadata": {},
   "source": [
    "### Calculate the expected portfolio return at the `95%` lower and upper confidence intervals based on a `$20,000` initial investment."
   ]
  },
  {
   "cell_type": "code",
   "execution_count": 24,
   "metadata": {},
   "outputs": [
    {
     "name": "stdout",
     "output_type": "stream",
     "text": [
      "There is a 95% chance that an initial investment of $20000 in the portfolio over the next 30 years will end within in the range of $56776.34 and $917930.85\n"
     ]
    }
   ],
   "source": [
    "# Set initial investment\n",
    "initial_investment = 20000\n",
    "\n",
    "# Use the lower and upper `95%` confidence intervals to calculate the range of the possible outcomes of our $20,000\n",
    "ci_lower = round(tbl[8]*initial_investment,2)\n",
    "ci_upper = round(tbl[9]*initial_investment,2)\n",
    "\n",
    "# Print results\n",
    "print(f\"There is a 95% chance that an initial investment of ${initial_investment} in the portfolio\"\n",
    "      f\" over the next 30 years will end within in the range of\"\n",
    "      f\" ${ci_lower} and ${ci_upper}\")"
   ]
  },
  {
   "cell_type": "markdown",
   "metadata": {},
   "source": [
    "### Calculate the expected portfolio return at the `95%` lower and upper confidence intervals based on a `50%` increase in the initial investment."
   ]
  },
  {
   "cell_type": "code",
   "execution_count": 25,
   "metadata": {},
   "outputs": [
    {
     "name": "stdout",
     "output_type": "stream",
     "text": [
      "There is a 95% chance that an initial investment of $30000.0 in the portfolio over the next 30 years will end within in the range of $85164.51 and $1376896.28\n"
     ]
    }
   ],
   "source": [
    "# Set initial investment\n",
    "initial_investment = 20000 * 1.5\n",
    "\n",
    "# Use the lower and upper `95%` confidence intervals to calculate the range of the possible outcomes of our $30,000\n",
    "ci_lower = round(tbl[8]*initial_investment,2)\n",
    "ci_upper = round(tbl[9]*initial_investment,2)\n",
    "\n",
    "# Print results\n",
    "print(f\"There is a 95% chance that an initial investment of ${initial_investment} in the portfolio\"\n",
    "      f\" over the next 30 years will end within in the range of\"\n",
    "      f\" ${ci_lower} and ${ci_upper}\")"
   ]
  }
 ],
 "metadata": {
  "kernelspec": {
   "display_name": "Python 3 (ipykernel)",
   "language": "python",
   "name": "python3"
  },
  "language_info": {
   "codemirror_mode": {
    "name": "ipython",
    "version": 3
   },
   "file_extension": ".py",
   "mimetype": "text/x-python",
   "name": "python",
   "nbconvert_exporter": "python",
   "pygments_lexer": "ipython3",
   "version": "3.9.7"
  },
  "nteract": {
   "version": "0.28.0"
  }
 },
 "nbformat": 4,
 "nbformat_minor": 4
}
